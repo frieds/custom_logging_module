{
 "cells": [
  {
   "cell_type": "markdown",
   "metadata": {},
   "source": [
    "**What is the logging module?**\n",
    "\n",
    "It's a better print statement for Python.\n",
    "\n",
    "One friend of mine is so adamant about the use of logging, he declared: never use print statements. Always use logging messages instead.\n",
    "\n",
    "I'll walk you through this example how it's used and explain along the way.\n",
    "\n",
    "First, we import the [logging module](https://docs.python.org/3/library/logging.html) built into the Python 3 (and 2) standard library. I modified the root configuration logger file provided on [The HitchHiker's Guide to Python](http://python-guide-pt-br.readthedocs.io/en/latest/writing/logging/). On a the surface level, think of this file as the style guide to how our logging statements appear."
   ]
  },
  {
   "cell_type": "code",
   "execution_count": 1,
   "metadata": {
    "collapsed": true
   },
   "outputs": [],
   "source": [
    "import logging\n",
    "from logger import setup_logger\n",
    "setup_logger()\n",
    "logger = logging.getLogger()\n",
    "logger.addHandler(logging.NullHandler())\n",
    "logger.setLevel(logging.DEBUG)"
   ]
  },
  {
   "cell_type": "markdown",
   "metadata": {},
   "source": [
    "Let's write our first logging message!"
   ]
  },
  {
   "cell_type": "code",
   "execution_count": 7,
   "metadata": {
    "collapsed": false
   },
   "outputs": [
    {
     "name": "stderr",
     "output_type": "stream",
     "text": [
      "2017-05-03 20:29:25,722  DEBUG    1      <module>           Our first logging message!\n"
     ]
    }
   ],
   "source": [
    "logger.debug(\"Our first logging message!\")"
   ]
  },
  {
   "cell_type": "markdown",
   "metadata": {},
   "source": [
    "Above, we wrote a text based message. Noticed the output has lots of helpful information. The format of this message included info on the year-month-date timestamp, logging level, line number, function name, and our message.\n",
    "\n",
    "Ever try to debug some of your code and you just litter it with print statements to see what's going on? That can be great for personally debugging, but you won't want all those print statements in production code or to be outputted as clutter when someone else runs your code. There's a better way!\n",
    "\n",
    "Enter the idea of the logging level. In the message above, I specified a *debug* level - essesntially a statement to help me debug (or learn more about some trivial information in) a line of code. \n",
    "\n",
    "Notice in the first cell I included the line *logger.setLevel(logging.DEBUG)*\n",
    "\n",
    "Here are the [logging levels](https://docs.python.org/3/library/logging.html#logging-levels). Let's explain this through a demo.\n",
    "\n",
    "| Logging Level | Numeric Value \n",
    "| :-  | :- | \n",
    "| CRITICAL   | 50   | \n",
    "| ERROR      | 40   |   \n",
    "| WARNING    | 30   |   \n",
    "| INFO       | 20   |   \n",
    "| DEBUG      | 10   |   \n",
    "\n",
    "Since my message was the *debug* level, our message outputted after execution. But what happens if I change my logging level above to INFO (a higher numeric value). Ideally you would modify this at the top of your file but I'll include a copy again here to make this point."
   ]
  },
  {
   "cell_type": "code",
   "execution_count": 21,
   "metadata": {
    "collapsed": true
   },
   "outputs": [],
   "source": [
    "logger.setLevel(logging.INFO)\n",
    "logger.debug(\"Our first logging message!\")"
   ]
  },
  {
   "cell_type": "markdown",
   "metadata": {},
   "source": [
    "Nothing happened... but why?\n",
    "\n",
    "Our *debug* message is a lower numeric value than an *info* message. So if we set our script logging level to INFO, we'll only output messages of info numeric value or higher. \n",
    "\n",
    "This is super useful! \n",
    "\n",
    "Let's say you write dozens of *debug* messages in your code to help you troubleshoot. If someone were to integrate your code as a [black box](https://en.wikipedia.org/wiki/Black_box), they could simply set the logging level of the script to INFO or higher, and not have to see your dozens of *debug* messages printed to output.\n",
    "\n",
    "Let's walk through a very basic example using several message types."
   ]
  },
  {
   "cell_type": "code",
   "execution_count": 15,
   "metadata": {
    "collapsed": false
   },
   "outputs": [
    {
     "name": "stderr",
     "output_type": "stream",
     "text": [
      "2017-05-03 21:03:12,599  DEBUG    10     add_two_strings    string one: logging\n",
      "2017-05-03 21:03:12,600  DEBUG    11     add_two_strings    string two: rules!\n"
     ]
    }
   ],
   "source": [
    "logger.setLevel(logging.DEBUG)\n",
    "\n",
    "def add_two_strings(string_one, string_two):\n",
    "    \"\"\"\n",
    "    Concatenates two strings\n",
    "    :param string_one\n",
    "    :param string_two\n",
    "    :return: concatenation of two strings\n",
    "    \"\"\"\n",
    "    logger.debug(\"string one: {0}\".format(string_one))\n",
    "    logger.debug(\"string two: {0}\".format(string_two))\n",
    "\n",
    "add_two_strings(\"logging\", \"rules!\")"
   ]
  },
  {
   "cell_type": "code",
   "execution_count": 16,
   "metadata": {
    "collapsed": false
   },
   "outputs": [
    {
     "name": "stderr",
     "output_type": "stream",
     "text": [
      "2017-05-03 21:03:13,822  DEBUG    8      add_two_strings    string one: logging\n",
      "2017-05-03 21:03:13,824  DEBUG    9      add_two_strings    string two: rules!\n",
      "2017-05-03 21:03:13,824  DEBUG    11     add_two_strings    let's check we have two strings...\n",
      "2017-05-03 21:03:13,825  DEBUG    13     add_two_strings    Great! Both 'logging' and 'rules!' are strings\n"
     ]
    }
   ],
   "source": [
    "def add_two_strings(string_one, string_two):\n",
    "    \"\"\"\n",
    "    Concatenates two strings\n",
    "    :param string_one\n",
    "    :param string_two\n",
    "    :return: concatenation of two strings\n",
    "    \"\"\"\n",
    "    logger.debug(\"string one: {0}\".format(string_one))\n",
    "    logger.debug(\"string two: {0}\".format(string_two))\n",
    "\n",
    "    logger.debug(\"let's check we have two strings...\")\n",
    "    if isinstance(string_one, str) or isinstance(string_two, str):\n",
    "        logger.debug(\"Great! Both '{0}' and '{1}' are strings\".format(string_one, string_two))\n",
    "\n",
    "add_two_strings(\"logging\", \"rules!\")"
   ]
  },
  {
   "cell_type": "code",
   "execution_count": 19,
   "metadata": {
    "collapsed": false
   },
   "outputs": [
    {
     "name": "stderr",
     "output_type": "stream",
     "text": [
      "2017-05-03 21:03:42,617  DEBUG    8      add_two_strings    string one: logging\n",
      "2017-05-03 21:03:42,619  DEBUG    9      add_two_strings    string two: rules!\n",
      "2017-05-03 21:03:42,620  DEBUG    11     add_two_strings    let's check we have two strings...\n",
      "2017-05-03 21:03:42,620  DEBUG    13     add_two_strings    Great! Both 'logging' and 'rules!' are strings\n"
     ]
    }
   ],
   "source": [
    "def add_two_strings(string_one, string_two):\n",
    "    \"\"\"\n",
    "    Concatenates two strings\n",
    "    :param string_one\n",
    "    :param string_two\n",
    "    :return: concatenation of two strings\n",
    "    \"\"\"\n",
    "    logger.debug(\"string one: {0}\".format(string_one))\n",
    "    logger.debug(\"string two: {0}\".format(string_two))\n",
    "\n",
    "    logger.debug(\"let's check we have two strings...\")\n",
    "    if isinstance(string_one, str) or isinstance(string_two, str):\n",
    "        logger.debug(\"Great! Both '{0}' and '{1}' are strings\".format(string_one, string_two))\n",
    "    else:\n",
    "        logger.error(\"We can't create a new phrase because one of our inputs is not a string!\")\n",
    "        return None\n",
    "\n",
    "add_two_strings(\"logging\", \"rules!\")"
   ]
  },
  {
   "cell_type": "code",
   "execution_count": 20,
   "metadata": {
    "collapsed": false
   },
   "outputs": [
    {
     "name": "stderr",
     "output_type": "stream",
     "text": [
      "2017-05-03 21:03:43,156  DEBUG    8      add_two_strings    string one: logging\n",
      "2017-05-03 21:03:43,157  DEBUG    9      add_two_strings    string two: rules!\n",
      "2017-05-03 21:03:43,159  DEBUG    11     add_two_strings    let's check we have two strings...\n",
      "2017-05-03 21:03:43,160  DEBUG    13     add_two_strings    Great! Both 'logging' and 'rules!' are strings\n",
      "2017-05-03 21:03:43,161  INFO     22     add_two_strings    return value of add_two_strings function is: 'logging rules!'\n"
     ]
    },
    {
     "data": {
      "text/plain": [
       "'logging rules!'"
      ]
     },
     "execution_count": 20,
     "metadata": {},
     "output_type": "execute_result"
    }
   ],
   "source": [
    "def add_two_strings(string_one, string_two):\n",
    "    \"\"\"\n",
    "    Concatenates two strings\n",
    "    :param string_one\n",
    "    :param string_two\n",
    "    :return: concatenation of two strings\n",
    "    \"\"\"\n",
    "    logger.debug(\"string one: {0}\".format(string_one))\n",
    "    logger.debug(\"string two: {0}\".format(string_two))\n",
    "\n",
    "    logger.debug(\"let's check we have two strings...\")\n",
    "    if isinstance(string_one, str) or isinstance(string_two, str):\n",
    "        logger.debug(\"Great! Both '{0}' and '{1}' are strings\".format(string_one, string_two))\n",
    "    else:\n",
    "        logger.error(\"We can't create a new phrase because one of our inputs is not a string!\")\n",
    "        type_string_one = type(string_one)\n",
    "        type_string_two = type(string_two)\n",
    "        logger.warning(\"string one is a {0} and string two is a {1}\".format(type_string_one, type_string_two))\n",
    "        return None\n",
    "\n",
    "    return_value = string_one + \" \" + string_two\n",
    "    logger.info(\"return value of add_two_strings function is: '{0}'\".format(return_value))\n",
    "    return return_value\n",
    "\n",
    "add_two_strings(\"logging\", \"rules!\")"
   ]
  },
  {
   "cell_type": "markdown",
   "metadata": {
    "collapsed": true
   },
   "source": [
    "My next post on the logging module will go over a few more practical examples in which the logger module is helpful in industry."
   ]
  },
  {
   "cell_type": "code",
   "execution_count": null,
   "metadata": {
    "collapsed": true
   },
   "outputs": [],
   "source": [
    ""
   ]
  }
 ],
 "metadata": {
  "kernelspec": {
   "display_name": "Python 3",
   "language": "python",
   "name": "python3"
  },
  "language_info": {
   "codemirror_mode": {
    "name": "ipython",
    "version": 3.0
   },
   "file_extension": ".py",
   "mimetype": "text/x-python",
   "name": "python",
   "nbconvert_exporter": "python",
   "pygments_lexer": "ipython3",
   "version": "3.6.0"
  }
 },
 "nbformat": 4,
 "nbformat_minor": 0
}